{
 "cells": [
  {
   "cell_type": "code",
   "execution_count": 1,
   "id": "0b44bee1-2a8c-43b1-b8d3-1a1c9dd60239",
   "metadata": {},
   "outputs": [],
   "source": [
    "import json\n",
    "\n",
    "with open('user_item.json', encoding = 'utf-8', mode = 'r') as file:\n",
    "    user_item = json.load(file)"
   ]
  },
  {
   "cell_type": "code",
   "execution_count": 2,
   "id": "3d04a7e5-0965-4588-b06d-82e08f8bea31",
   "metadata": {},
   "outputs": [],
   "source": [
    "from itertools import chain\n",
    "flatten_list = list(chain.from_iterable(user_item.values()))"
   ]
  },
  {
   "cell_type": "code",
   "execution_count": 27,
   "id": "73fb5b85-7fa2-46b9-b96c-6539611d9e83",
   "metadata": {
    "scrolled": true,
    "tags": []
   },
   "outputs": [],
   "source": [
    "from collections import Counter\n",
    "dic = dict(Counter(flatten_list).most_common())"
   ]
  },
  {
   "cell_type": "code",
   "execution_count": 31,
   "id": "84b09f65-13db-4d2c-b27c-df7de6049eff",
   "metadata": {},
   "outputs": [],
   "source": [
    "a = set(list(range(2347)))"
   ]
  },
  {
   "cell_type": "code",
   "execution_count": 35,
   "id": "d0d2884a-b86d-45b9-b915-503d361a4e29",
   "metadata": {},
   "outputs": [],
   "source": [
    "nan_i = a - set(dic.keys())"
   ]
  },
  {
   "cell_type": "code",
   "execution_count": 36,
   "id": "83368615-d3ef-4a80-b363-2163e73f8b1f",
   "metadata": {},
   "outputs": [],
   "source": [
    "final_dict = dict(Counter(flatten_list).most_common())\n",
    "for i in nan_i:\n",
    "    final_dict[i] = 0"
   ]
  },
  {
   "cell_type": "code",
   "execution_count": 37,
   "id": "49f9b8af-1b55-43ef-a26a-9955dcffe81a",
   "metadata": {},
   "outputs": [],
   "source": [
    "import pandas as pd\n",
    "df = pd.DataFrame.from_dict([final_dict]) \n",
    "df.to_csv (r'pop_list.csv', index=False, header=True)"
   ]
  },
  {
   "cell_type": "code",
   "execution_count": 38,
   "id": "21f4b786-3d9a-448f-a70e-572a955d6e79",
   "metadata": {},
   "outputs": [],
   "source": [
    "df = pd.read_csv('pop_list.csv')"
   ]
  },
  {
   "cell_type": "code",
   "execution_count": 39,
   "id": "7600e7c9-30b8-4300-ae2f-59f43c17ae1c",
   "metadata": {},
   "outputs": [
    {
     "data": {
      "text/plain": [
       "0"
      ]
     },
     "execution_count": 39,
     "metadata": {},
     "output_type": "execute_result"
    }
   ],
   "source": [
    "df['572'].item()"
   ]
  }
 ],
 "metadata": {
  "kernelspec": {
   "display_name": "Python 3",
   "language": "python",
   "name": "python3"
  },
  "language_info": {
   "codemirror_mode": {
    "name": "ipython",
    "version": 3
   },
   "file_extension": ".py",
   "mimetype": "text/x-python",
   "name": "python",
   "nbconvert_exporter": "python",
   "pygments_lexer": "ipython3",
   "version": "3.7.11"
  }
 },
 "nbformat": 4,
 "nbformat_minor": 5
}
